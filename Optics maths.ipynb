{
 "cells": [
  {
   "cell_type": "markdown",
   "metadata": {},
   "source": [
    "$\\newcommand{\\cm}{\\mbox{cm}}\n",
    "\\newcommand{\\mm}{\\mbox{mm}}\n",
    "\\newcommand{\\NA}{\\mbox{NA}}$\n",
    "# Propagación\n",
    "[1] 2017 - Review of digital holography reconstruction methods\n",
    "\n",
    "Rayleigh-Sommerfeld (convolución):\n",
    "$$h^{RS}_z = \\frac{z}{i\\lambda}\\frac{\\exp(ikr)}{r^2},$$\n",
    "$$r=\\sqrt{x^2+y^2+z^2}$$\n",
    "En frecuencia no existe una expresión analítica.\n",
    "\n",
    "La aproximación de Fresnel se realiza cuando $z^3 \\gg \\frac{\\pi l^4}{64\\lambda}$, siendo $l$ la dimensión característica del objeto.\n",
    "\n",
    "Fresnel:\n",
    "$$h^{F}_z = \\frac{\\exp(ikz)}{i\\lambda z}\\exp\\left(\\frac{i\\pi(x^2+y^2)}{\\lambda z}\\right)$$\n",
    "$$H^{F}_z = \\exp(ikz)\\exp[-i\\pi \\lambda z(v_x^2+v_y^2)]$$\n",
    "\n",
    "Fresnel Diffraction integral:\n",
    "$$U_z(x,y) = \\frac{\\exp(ikz)}{i\\lambda z}\\exp\\left(\\frac{i\\pi}{\\lambda z}(x^2+y^2)\\right) \\mathfrak{F}\\left[U_o(x,y)\\exp\\left(\\frac{i\\pi}{\\lambda z}(x^2+y^2)\\right)\\right]$$\n",
    "$$\\Delta\\xi = \\Delta\\eta = \\frac{\\lambda z}{N\\Delta_p},$$\n",
    "en el plano de reconstrucción. Al pasar a numérico, hay que multiplicar por $\\Delta_p^2 $\n",
    "\n",
    "Cuando $z^3 \\gg \\frac{k}{2}(\\xi^2+\\eta^2)$ vale Fraunhofer (en realidad hay que considerar el tamaño del objeto y no de la imagen que se quiere obtener):\n",
    "$$U_z(x,y) = \\frac{\\exp(ikz)}{i\\lambda z}\\exp\\left(\\frac{i\\pi}{\\lambda z}(x^2+y^2)\\right) \\mathfrak{F}[U_o(x,y)]$$\n",
    "\n",
    "Angular Spectrum Method ($z\\gg \\lambda$):\n",
    "$$H^{AS}_z = \\exp \\left(ikz\\sqrt{1-(\\lambda v_x)^2-(\\lambda v_y)^2}\\right)$$,\n",
    "si: $\\sqrt{v_x^2+v_y^2}<1/\\lambda$, si no, $H^{AS}_z = 0$\n",
    "\n",
    "Cuando se pasa a numérico: $\\Delta v_x = 1/(M\\Delta x)$. O, en particular, $\\Delta_p$ cuando $\\Delta x = \\Delta y$\n",
    "\n",
    "## Limitaciones por implementación numérica\n",
    "\n",
    "Rayleigh-Sommerfeld:\n",
    "$$z_{\\min}^{RS} = \\sqrt{M^2 + N^2}\\Delta_p \\sqrt{\\left(\\frac{\\Delta_p}{\\lambda}\\right)^2-\\frac{1}{2}}$$\n",
    "Fresnel (convolución):\n",
    "$$z_{\\min}^{F} = \\sqrt{M^2 + N^2}\\Delta_p \\frac{\\Delta_p}{\\lambda}$$\n",
    "Cuando se trabaja en espectro (Fresnel o ASM):\n",
    "$$z_{\\max}^{ASM} = \\min(M,N) \\frac{\\Delta_p^2}{\\lambda}$$"
   ]
  },
  {
   "cell_type": "code",
   "execution_count": 1,
   "metadata": {},
   "outputs": [
    {
     "name": "stdout",
     "output_type": "stream",
     "text": [
      "La distancia mínima de propagación para aplicar la aproximación de Fresnel es 3.23 mm.\n",
      "La distancia mínima de propagación para aplicar la aproximación de Fraunhofer es 3257.57 mm.\n",
      "La distancia mínima para implementar RS es 436.92 mm, para Fresnel es 439.79 mm y la distancia máxima para ASM (o Fresnel en frecuencia) es 250.21 mm.\n",
      "El mínimo downsampling para implementar ASM en max_z=96.00 cm con crop_factor de 1.00 es 3.84.\n"
     ]
    }
   ],
   "source": [
    "import math\n",
    "l = 125e-6  # size of object\n",
    "wavelength = 355e-9\n",
    "zero_padding = True\n",
    "M0 = 13264\n",
    "N0 = 9176\n",
    "delta_p = 2.2e-6\n",
    "downsampling = 1\n",
    "crop_factor = 1\n",
    "max_z = 96e-2\n",
    "\n",
    "M0 = 2*M0 if zero_padding else M0\n",
    "N0 = 2*N0 if zero_padding else N0\n",
    "\n",
    "Mc = M0 * crop_factor\n",
    "Nc = N0 * crop_factor\n",
    "M = Mc / downsampling\n",
    "N = Nc / downsampling\n",
    "delta_p = delta_p *downsampling\n",
    "\n",
    "# Distancia mínima para aproximación de Fresnel\n",
    "z_min_ap_Fresnel = 10*(math.pi * l**4 / 64 / wavelength)**(1/3)\n",
    "print(\"La distancia mínima de propagación para aplicar la aproximación de Fresnel es {:.2f} mm.\".format(z_min_ap_Fresnel*1000))\n",
    "# Distancia mínima para aproximación de Fraunhofer\n",
    "z_min_ap_Fraunhofer = 10*(math.pi * l**2 / 4 / wavelength)**(1/3)\n",
    "print(\"La distancia mínima de propagación para aplicar la aproximación de Fraunhofer es {:.2f} mm.\".format(z_min_ap_Fraunhofer*1000))\n",
    "\n",
    "# Limitaciones por implementación numérica\n",
    "# RS\n",
    "root = math.sqrt(M**2+N**2)\n",
    "z_min_RS = root * delta_p * math.sqrt((delta_p/wavelength)**2-0.5)\n",
    "# F\n",
    "z_min_F = root * delta_p**2 /wavelength\n",
    "# ASM\n",
    "z_max_ASM = min(M,N)*delta_p**2 /wavelength\n",
    "print(\"La distancia mínima para implementar RS es {:.2f} mm, para Fresnel es {:.2f} mm y la distancia máxima para ASM (o Fresnel en frecuencia) es {:.2f} mm.\".format(z_min_RS*1e3,z_min_F*1e3,z_max_ASM*1e3))\n",
    "# Downsampling necesario para poder usar ASM en un determinado z\n",
    "down_required = max_z / min(Mc,Nc)/delta_p**2 *wavelength\n",
    "print(\"El mínimo downsampling para implementar ASM en max_z={:.2f} cm con crop_factor de {:.2f} es {:.2f}.\".format(max_z*100,crop_factor,down_required))"
   ]
  },
  {
   "cell_type": "markdown",
   "metadata": {},
   "source": [
    "Para $l=[1\\mu m, 10\\mu m, 100\\mu m]$ se obtienen que los z mínimos para aplicar Fresnel deberían ser de al menos $[4.5\\mu m, 97 \\mu m, 2 mm]$\n",
    "\n",
    "El crop_factor reduce los valores mínimos de propagación por convolución y también reduce el máximo de ASM.\n",
    "\n",
    "La decimación $\\gamma$ extiende la posibilidad de usar ASM:\n",
    "$$z_{\\max}^{ASM} = \\gamma \\min(M,N) \\frac{\\Delta_p^2}{\\lambda}$$\n",
    "$$\\gamma_{\\min} = \\frac{z\\lambda}{\\min(M,N)\\Delta_p^2}$$\n",
    "\n",
    "Cuando se pasa el límite se puede pasar a Fresnel con menos downsampling (hasta interpolado) o croppeado."
   ]
  },
  {
   "cell_type": "markdown",
   "metadata": {},
   "source": [
    "### Aliasing of fringes in inline holography\n",
    "2017 - Aliasing, coherence, and resolution in a lensless holographic microscope\n",
    "\n",
    "Si $W$ es el ancho del sensor, $L$ es la distancia de la muestra al sensor:\n",
    "$$NA=\\sin\\theta_{max}=\\frac{W/L}{\\sqrt{1+(W/L)^2}}$$\n",
    "Para que no haya aliasing: $\\lambda/ \\sin\\theta \\geq 2p$, $NA\\leq\\lambda/(2p)$, siendo $\\theta$ el ángulo de incidencia y $p$ el ancho de pixel. En el peor de los casos se tiene $\\theta=\\theta_{max}$. Juntando las ecuaciones se llega a que \n",
    "$$L \\geq W\\sqrt{\\left(\\frac{2p}{\\lambda}\\right)^2-1}.$$\n",
    "Por otro lado, la resolución dada por $NA$ es : $r=\\frac{\\lambda}{2NA}$. Si para evitar aliasing $L$ es mayor o igual a una cantidad, entonces la NA es menor o igual a una cantidad, y la resolución termina siendo:\n",
    "$$r\\geq p.$$\n",
    "Pero si se considera la visibilidad de las franjas en comparación con la relación señal a ruido $S$, y $p\\gg\\lambda$: $$L\\geq\\frac{4S}{\\pi} \\sqrt{\\frac{2p^3r_{max}}{\\lambda^2}},$$\n",
    "donde $r_{max}$ es el mayor tamaño de partículas en la muestra.\n",
    "\n",
    "Estos resultados cambian para el caso de iluminación divergente. Donde la distancia de la fuente a la muestra es $Z$ y de la muestra al sensor es $L^*$. La magnificación es $M=(Z+L^*)/Z$.\n",
    "Para encontrar los $L^*$ correspondientes a las deducciones anteriores hay que usar:\n",
    "$$L^* = 0.5 (\\sqrt{4LZ+Z^2}-Z)$$\n",
    "Si $D$ es la distancia de la fuente al sensor:\n",
    "$$L^* = \\frac{LD}{L+D}.$$"
   ]
  },
  {
   "cell_type": "code",
   "execution_count": 2,
   "metadata": {},
   "outputs": [
    {
     "name": "stdout",
     "output_type": "stream",
     "text": [
      "Minimum distance of object from sensor without aliasing : 360.50 mm.\n",
      "The minimum distance considering SNR and visibility of fringes : 13.40 mm.\n",
      "\n",
      "Results for divergent illumination\n",
      "\n",
      "Minimum distance of object from sensor without aliasing : 52.90 mm.\n",
      "The minimum distance considering SNR and visibility of fringes : 11.02 mm.\n"
     ]
    }
   ],
   "source": [
    "import numpy as np\n",
    "import warnings\n",
    "wavelength = 355e-9\n",
    "M = 13264\n",
    "N = 9176\n",
    "p = 2.2e-6\n",
    "# Maximum distance of object from sensor without aliasing (not considering visibility of fringes)\n",
    "W = p * max(M,N)\n",
    "root_arg = (2*p/wavelength)**2-1\n",
    "if root_arg < 0:\n",
    "    warnings.warn(\"There will always be aliasing.\")\n",
    "else:\n",
    "    L_max = W * np.sqrt(root_arg)\n",
    "    print(\"Minimum distance of object from sensor without aliasing : {:.2f} mm.\".format(L_max*1000))\n",
    "# Now considering visibility and SNR : S\n",
    "noise_counts = 4\n",
    "r_max = 10e-6 # maximum size of samples\n",
    "S = 2**10 / noise_counts\n",
    "L_max_S =  4*S/np.pi * np.sqrt(2*p**3*r_max/wavelength**2)\n",
    "print(\"The minimum distance considering SNR and visibility of fringes : {:.2f} mm.\".format(L_max_S*1000))\n",
    "print(\"\\nResults for divergent illumination\\n\")\n",
    "D = 62e-3 # Distance from source to sensor\n",
    "Ld_max = L_max*D/(L_max+D)\n",
    "Ld_max_S = L_max_S*D/(L_max_S+D)\n",
    "print(\"Minimum distance of object from sensor without aliasing : {:.2f} mm.\".format(Ld_max*1000))\n",
    "print(\"The minimum distance considering SNR and visibility of fringes : {:.2f} mm.\".format(Ld_max_S*1000))"
   ]
  },
  {
   "cell_type": "markdown",
   "metadata": {},
   "source": [
    "### Axial resolution\n",
    "\n",
    "2015 - Practical algorithms for simulation and reconstruction of digital in-line holograms\n",
    "\n",
    "The axial resolution (z-axis) is $\\delta_z = \\frac{\\lambda}{\\mbox{NA}^2}$.\n",
    "\n",
    "In the case of using a spherical wave, the reconstruction is done with a planar wave at different $z$ positions. Being $L$ the distance from the sensor to the source, $z'$ the distance from the sensor to the plane and $D$ the largest dimension in the sensor:\n",
    "$$z=\\frac{z'L}{L-z'}.$$\n",
    "\n",
    "So, with $\\mbox{NA} = \\sin\\left[\\arctan\\left(\\frac{D}{2z}\\right)\\right]$, the axial resolution is found."
   ]
  },
  {
   "cell_type": "code",
   "execution_count": 5,
   "metadata": {},
   "outputs": [
    {
     "data": {
      "image/png": "[encoded data removed]",
      "text/plain": [
       "<Figure size 432x288 with 1 Axes>"
      ]
     },
     "metadata": {
      "needs_background": "light"
     },
     "output_type": "display_data"
    }
   ],
   "source": [
    "import matplotlib.pyplot as plt\n",
    "D = M*p\n",
    "L = 80e-3\n",
    "zp = np.linspace(5e-3, 65e-3,200)\n",
    "z = zp*L/(L-zp)\n",
    "NA = np.sin(np.arctan(D/2/z))\n",
    "delta_z = wavelength / NA**2\n",
    "fig, ax = plt.subplots()\n",
    "ax.semilogy(zp, Delta_z)\n",
    "ax.set_xlabel('z real (spherical illumination)')\n",
    "ax.set_ylabel('Axial resolution [m]')\n",
    "ax.grid()"
   ]
  },
  {
   "cell_type": "markdown",
   "metadata": {},
   "source": [
    "Maybe it is convenient to acquire images with lower $L$ when trying to detect properly with $z \\approx L$.\n",
    "\n",
    "#### Sampling z with constant step-to-resolution ratio\n",
    "\n",
    "When sampling from $z_0$ to $z_N$ with $N+1$ points ($N$ steps) it is interesting to have always the same step-to-resolution ratio. So, $z_0 + \\sum \\Delta_{zi} = z_N$, and $\\Delta_{zi} = K \\delta_{zi}$. This is a nonlinear equation that can be solved using a nonlinear solver. See sample_z_sph.m"
   ]
  },
  {
   "cell_type": "markdown",
   "metadata": {},
   "source": [
    "## Modelos de fidelidad\n",
    "Los modelos de fidelidad pueden ser que consideran ruido Gaussiano o variable Poisson.\n",
    "\n",
    "En el caso de plantear transmisión, se puede usar $I(x,y)=|A|^2 m(x,y)$, con $m(x,y)=|h_z\\ast t|^2$, $t\\in \\mathbb{C}^n$\n",
    "\n",
    "Si $t=|t|e^{i\\phi}$, tiene sentido usar $|t|\\leq1$."
   ]
  },
  {
   "cell_type": "markdown",
   "metadata": {},
   "source": [
    "## Lensfree DIH (Gabor)\n",
    "Se usa un MO para generar una fuente esférica. La fuente es realmente cónica, así que hay que asegurarse que el NA del MO alcance para cubrir toda la cámara y un poco más. El radio de la zona iluminada tiene que ser mayor a 1.1 veces la diagonal de la cámara $d$. Esto va a significar distintos NA para cada posible ubicación $z$ de la cámara con respecto al eje de propagación.\n",
    "$$NA = n \\sin \\theta,$$\n",
    "siendo $\\theta$ el ángulo máximo de apertura con respecto al eje de propagación: $\\theta = \\arctan(\\frac{1.1d}{2z})$. Entonces se puede obtener un ploteo de NA necesario en función de distancia a la cámara."
   ]
  },
  {
   "cell_type": "code",
   "execution_count": 3,
   "metadata": {},
   "outputs": [
    {
     "name": "stdout",
     "output_type": "stream",
     "text": [
      "Las mínimas distancias de ubicación de las cámaras [SVS Vistek, Photron, Optronis] para un NA = 0.5 son [[33.79923946 27.58810526 18.35714048]]\n"
     ]
    },
    {
     "data": {
      "image/png": "[encoded data removed]",
      "text/plain": [
       "<Figure size 432x288 with 1 Axes>"
      ]
     },
     "metadata": {
      "needs_background": "light"
     },
     "output_type": "display_data"
    }
   ],
   "source": [
    "z = np.linspace(2,100,1000) # mm\n",
    "ds = np.atleast_2d(np.array([35.48, 28.96, 19.27])) # mm. [SVS Vistek, Photron, Optronis]\n",
    "NA = np.sin(np.arctan(1.1*ds/2/z[:,np.newaxis]))\n",
    "fig, ax = plt.subplots(1,1)\n",
    "ax.plot(z,NA)\n",
    "ax.set_xlabel('z [mm]')\n",
    "ax.set_ylabel('NA')\n",
    "ax.legend(['SVS Vistek', 'Photron', 'Optronis'])\n",
    "\n",
    "Test_NA = 0.5\n",
    "min_zs = 1.1/2*ds / np.tan(np.arcsin(Test_NA))\n",
    "print(\"Las mínimas distancias de ubicación de las cámaras [SVS Vistek, Photron, Optronis] para un NA = {} son {}\".format(Test_NA,min_zs))"
   ]
  },
  {
   "cell_type": "markdown",
   "metadata": {},
   "source": [
    "Si el NA tiene que ser 0.4 o más, de Thorlabs sólo tiene sentido el N20X-PF pra 355 nm (882£). Si no es MO, y es asférico entonces puede ser un C240TMD-A NA=0.5 con WD=4.8 mm A240TM-A en glass D-LAK6 (67£).\n",
    "https://www.thorlabs.com/newgrouppage9.cfm?objectgroup_id=3810\n",
    "Edmund Optics tiene asféricos para UV en Fused Silica. (300£) https://www.edmundoptics.com/p/125mm-dia-050-na-uv-vis-coated-uv-fused-silica-aspheric-lens/30259/ MO en 880£ 86-819"
   ]
  },
  {
   "cell_type": "markdown",
   "metadata": {},
   "source": [
    "### Focusing of a laser beam to a small spot\n",
    "A laser beam, with radius $y_1$ and divergence $\\theta_1$ is focused by a lens of focal length $f$. The output angle is $\\theta_2 = y_1/f$. The optical invariant tells us that we must have $y_2 = \\theta_1 f$, because the product of radius and divergence angle must be constant.\n",
    "\n",
    "Using diffraction limited formula: $r_{focused} = \\lambda f / r_{in}$. But also seen $r_{focused} = 1.22 \\lambda f / r_{in}$ \n",
    "\n",
    "The diameter of the pinhole should be 30% more than the diameter of the focused beam.\n",
    "\n",
    "If an MO not infinity corrected is used, the $f$ is not given but instead magnification $M$ and tube lens length $L$ (160mm or 210mm). So $f=\\frac{L}{M}$. The minimum radius is obtained for the diameter of the input.\n",
    "\n",
    "https://www.edmundoptics.eu/knowledge-center/application-notes/lasers/beam-expanders/\n",
    "The spatial filter has a magnification of the beam that is $M=\\frac{f_2}{f_1}=\\frac{40 \\mm}{15.29 \\mm}$. $M=r_{out}/r_{in}$, and $M=\\theta_{in}/\\theta_{out}$ for divergence angle in beam expanders."
   ]
  },
  {
   "cell_type": "code",
   "execution_count": 4,
   "metadata": {},
   "outputs": [
    {
     "name": "stdout",
     "output_type": "stream",
     "text": [
      "Pinhole has radius of 20.0 um, but the radius of the focused beam is 0.6 um by ray optics and 13.021873333333334 um by diffraction limited. The pinhole should be around 16.928435333333333 um.\n",
      "The filtered output has radius 3325.9423503325943 um, and angle 0.2 mrad\n",
      "Using magnification M=22.172949002217294 and disregarding the pinhole. The filtered output has radius 3325.942350332594 um, and angle 0.18040000000000003 mrad\n",
      "The source has radius 2.5 um\n",
      "Diffraction limited: The source has radius 1.3342083333333334 um\n"
     ]
    }
   ],
   "source": [
    "wavelength = 355e-9\n",
    "r_laser = 0.3e-3 /2 # FTSS355-Q4\n",
    "theta_laser = 4e-3 # FTSS355-Q4\n",
    "f1_filter = 4.51e-3 # 15.29e-3\n",
    "f2_filter = 100e-3 # 40e-3\n",
    "r_focus = theta_laser*r_laser\n",
    "r_focus_dl = 1.22* wavelength * f1_filter / r_laser  # Focused beam diameter where pinhole goes\n",
    "ph = 40e-6 /2\n",
    "print(\"Pinhole has radius of {} um, but the radius of the focused beam is {} um by ray optics and {} um by diffraction limited. The pinhole should be around {} um.\".format(ph*1e6,r_focus*1e6,r_focus_dl*1e6,r_focus_dl*1e6*1.3))\n",
    "theta_focused = r_laser / f1_filter\n",
    "r_filtered = theta_focused * f2_filter\n",
    "theta_filtered = ph/f2_filter\n",
    "print(\"The filtered output has radius {} um, and angle {} mrad\".format(r_filtered*1e6, theta_filtered*1e3))\n",
    "M = f2_filter / f1_filter\n",
    "print(\"Using magnification M={} and disregarding the pinhole. The filtered output has radius {} um, and angle {} mrad\".format(M,r_laser*M*1e6, theta_laser/M*1e3))\n",
    "f_source = 12.5e-3\n",
    "r_source = theta_filtered * f_source\n",
    "print(\"The source has radius {} um\".format(r_source*1e6))\n",
    "print(\"Diffraction limited: The source has radius {} um\".format(wavelength*f_source/r_filtered*1e6))"
   ]
  },
  {
   "cell_type": "markdown",
   "metadata": {},
   "source": [
    "#### Using Aspheric lens with collimated wavefront at the input\n",
    "\n",
    "Results obtained by the diffraction limit formula for a given NA and $f$."
   ]
  },
  {
   "cell_type": "code",
   "execution_count": 5,
   "metadata": {},
   "outputs": [
    {
     "name": "stdout",
     "output_type": "stream",
     "text": [
      "The radius of the focused beam using a lens with input radius 7.22 mm and f = 12.5 mm, is 0.75 um\n",
      "The pulse energy density at the focus point is 4525.25 J/cm2\n"
     ]
    }
   ],
   "source": [
    "NA = 0.5\n",
    "f_asph = 12.5  # mm\n",
    "r_in = np.tan(np.arcsin(NA))*f_asph\n",
    "r_foc = 1.22 * wavelength * f_asph / r_in\n",
    "print(\"The radius of the focused beam using a lens with input radius {:.2f} mm and f = {} mm, is {:.2f} um\".format(r_in, f_asph, r_foc/1e-6))\n",
    "pulse_energy = 80 # uJ\n",
    "pulse_energy_density_focus = pulse_energy / (np.pi*r_foc**2) / 1e4 / 1e6 # J/cm2\n",
    "print(\"The pulse energy density at the focus point is {:.2f} J/cm2\".format(pulse_energy_density_focus))"
   ]
  },
  {
   "cell_type": "markdown",
   "metadata": {},
   "source": [
    "## Spatial filter calculations for GEM532\n",
    "\n",
    "Laser GEM532 specs:\n",
    "- beam diameter : 0.9 mm\n",
    "- divergence < 0.8 mrad\n",
    "- polarization direction : horizontal\n",
    "- coherence length: 1 cm\n",
    "- operating temperature: 15-40\n",
    "\n",
    "Set-up: aspheric lens with convex shape towards input, pinhole, collimating lens with convex towards output.\n",
    "\n",
    "Diameter of focused beam: $d_f = \\frac{4 \\lambda f_1}{\\pi D}$, where $f_1$ is the focal length of the aspheric lens and $D$ is the beam diameter of the laser.\n",
    "\n",
    "The output diameter is $d_o = \\frac{f_2}{f_1}D$.\n",
    "\n",
    "The SLM at the output has dimensions 17.6 x 10.7 mm."
   ]
  },
  {
   "cell_type": "code",
   "execution_count": 17,
   "metadata": {},
   "outputs": [
    {
     "name": "stdout",
     "output_type": "stream",
     "text": [
      "Diameter of focused beam with beam quality M^2=1 is 4.14 um. The pinhole diameter should be 5.38 um.\n",
      "The output diameter is 20.45 mm. The minimum output diameter (given by SLM) is 20.60 mm.\n"
     ]
    }
   ],
   "source": [
    "import numpy as np\n",
    "\n",
    "wavel = 532e-9\n",
    "f1 = 5.5e-3\n",
    "beam_diam = .9e-3\n",
    "M2 = 1   # Beam quality M^2 \n",
    "f2 = 125e-3\n",
    "diag_SLM = np.sqrt(17.6e-3**2 + 10.7e-3**2)\n",
    "\n",
    "beam_diam_foc = 4*M2*wavel*f1/np.pi/beam_diam\n",
    "print(f'Diameter of focused beam with beam quality M^2=1 is {beam_diam_foc/1e-6:.2f} um. The pinhole diameter should be {beam_diam_foc*1.3/1e-6:.2f} um.')\n",
    "output_diam = f2/f1*beam_diam\n",
    "print(f'The output diameter is {output_diam/1e-3:.2f} mm. The minimum output diameter (given by SLM) is {diag_SLM/1e-3:.2f} mm.')"
   ]
  },
  {
   "cell_type": "markdown",
   "metadata": {},
   "source": [
    "Required components:\n",
    "- [Thorlabs ER3-P4](https://www.thorlabs.com/thorproduct.cfm?partnumber=ER3-P4) Cage Assembly Rod, 3\" Long, Ø6 mm, 4 Pack £18.79 #1 *PO 5*\n",
    "- [Thorlabs SM1Z](https://www.thorlabs.com/thorproduct.cfm?partnumber=SM1Z) Z-Axis Translation Mount, 30 mm Cage Compatible £149.57 #1 *PO 5*\n",
    "- [Thorlabs SM1A3](https://www.thorlabs.com/newgrouppage9.cfm?objectgroup_id=1524&pn=SM1A3) Adapter with External SM1 Threads and Internal RMS Threads £13.46 #1 *PO 5*\n",
    "- [Thorlabs E09RMS](https://www.thorlabs.com/thorproduct.cfm?partnumber=E09RMS) Extended RMS to M9 x 0.5 Adapter £25.78 #1 *PO 5*\n",
    "- [Thorlabs C105TMD-A](https://www.thorlabs.com/thorproduct.cfm?partnumber=C105TMD-A) f = 5.5 mm, NA = 0.6, Mounted Aspheric Lens, ARC: 350 - 700 nm £96.71 #1 *PO 5*\n",
    "- [Thorlabs ST1XY-S/M](https://www.thorlabs.com/thorproduct.cfm?partnumber=ST1XY-S/M) XY Translator with Micrometer Drives, Metric £291.28 #1 *PO 5*\n",
    "- [Thorlabs P5W](https://www.thorlabs.com/thorproduct.cfm?partnumber=P5W) Ø1\" Mounted Pinhole, 5 ± 1 µm Pinhole Diameter, Tungsten £87.63 #1 *PO 5*\n",
    "- [Thorlabs LA1986-A](https://www.thorlabs.com/thorproduct.cfm?partnumber=LA1986-A)\tN-BK7 Plano-Convex Lens, Ø1\", f = 125 mm, AR Coating: 350 - 700 nm £24.41 #1 *PO 5*\n",
    "- [Thorlabs CP6T](https://www.thorlabs.com/thorproduct.cfm?partnumber=CP6T) SM1-Threaded 30 mm Cage Plate, 6.0 mm Thick £14.78 #1 *PO 5*\n",
    "- [Thorlabs C30L24](https://www.thorlabs.com/thorproduct.cfm?partnumber=C30L24) 30 mm Cage System Cover, 24\" Long, Pack of 4 £21.83 #1 *PO 5*\n",
    "- [Thorlabs ER6-P4](https://www.thorlabs.com/thorproduct.cfm?partnumber=ER2-P4) Cage Assembly Rod, 6\" Long, Ø6 mm, 4 Pack £24.64 #1 *PO 5*\n",
    "- [Thorlabs DCP1](https://www.thorlabs.com/thorproduct.cfm?partnumber=DCP1) Drop-In 30 mm Cage Mount, Flexure Lock, SM1 Threaded, 0.40\" Thick, 2 Retaining Rings £16.98 #4 *PO 5*\n",
    "- Set of lenses : N-BK7 Bi-Convex Lens, Ø1\", ARC: 350-700nm\n",
    "    - f = 50 mm [Thorlabs LB1471-A](https://www.thorlabs.com/thorproduct.cfm?partnumber=LB1471-A) £26.76 #1 *PO 5*\n",
    "    - f = 100 mm [Thorlabs LB1676-A](https://www.thorlabs.com/thorproduct.cfm?partnumber=LB1676-A) £25.78 #1 *PO 5*\n",
    "    - f = 175 mm [Thorlabs LB1294-A](https://www.thorlabs.com/thorproduct.cfm?partnumber=LB1294-A) £25 #1 *PO 5*\n",
    "    - f = 250 mm [Thorlabs LB1056-A](https://www.thorlabs.com/thorproduct.cfm?partnumber=LB1056-A) £24.79 #1 *PO 5*\n",
    "- [Thorlabs FMP1/M](https://www.thorlabs.com/thorproduct.cfm?partnumber=FMP1/M) Fixed Ø1\" Mirror Mount, M4 Tap £12.45 #1 *PO 5*\n",
    "- [Thorlabs PF10-03-P01](https://www.thorlabs.com/thorproduct.cfm?partnumber=PF10-03-P01) Ø1\" Protected Silver Mirror *(Available)*\n",
    "- [Thorlabs BBE1-E02](https://www.thorlabs.com/thorproduct.cfm?partnumber=BBE1-E02) 1\" Broadband Dielectric Elliptical Mirror, 400 - 750 nm £73.82 # 2 *(#1 for now)*  *PO 5*\n",
    "- [Thorlabs KCB1EC/M](https://www.thorlabs.com/thorproduct.cfm?partnumber=KCB1EC/M) Right-Angle Kinematic Elliptical Mirror Mount with Smooth Cage Rod Bores, 30 mm Cage System and SM1 Compatible, M4 and M6 Mounting Holes £151.37 # 2 *(#1 for now)* *PO 5*\n",
    "- [Thorlabs SM1D12D](https://www.thorlabs.com/thorproduct.cfm?partnumber=SM1D12D) SM1 Ring-Actuated Iris Diaphragm (Ø0.8 - Ø12 mm) £51.76 #1 *PO 5*\n",
    "- [Thorlabs CXY1](https://www.thorlabs.com/thorproduct.cfm?partnumber=CXY1) 30 mm Cage System, XY Translating Lens Mount for Ø1\" Optics *(Available)*\n",
    "- Plate for lens before focusing to the sample. \n",
    "- [Thorlabs LCP05/M](https://www.thorlabs.com/newgrouppage9.cfm?objectgroup_id=3517&pn=LCP05#3517) 60 mm Cage-Compatible Mount for 50 mm Square Filters Up to 4 mm Thick, M4 Tap £70.40 or [Thorlabs CYLCP/M](https://www.thorlabs.com/thorproduct.cfm?partnumber=CYLCP/M) 60 mm Cage Mount for Cylindrical Lenses, M4 Tap £76.91 *(Available)*\n",
    "\n",
    "Not required yet:\n",
    "- [Thorlabs CP30](https://www.thorlabs.com/thorproduct.cfm?partnumber=CP30) 30 mm to 30 mm Cage System Right-Angle Adapter £39.79\n",
    "- [Thorlabs CP360R](https://www.thorlabs.com/thorproduct.cfm?partnumber=CP360R) Pivoting, Quick-Release, Ø1\" Optic Mount for 30 mm Cage System £76.10\n",
    "- [Thorlabs C6W](https://www.thorlabs.com/thorproduct.cfm?partnumber=C6W) 30 mm Cage Cube, Ø6 mm Through Holes £50.72 *Using a cube is not good powerwise*\n",
    "- [Thorlabs B3C/M](https://www.thorlabs.com/thorproduct.cfm?partnumber=B3C/M) Fixed Cage Cube Platform for C4W/C6W, Metric £19.81\n",
    "- [Thorlabs C6WA/M](https://www.thorlabs.com/thorproduct.cfm?partnumber=C6WA/M) C6W Platform Adapter Kit, Metric £34.29\n",
    "- [Thorlabs B1C/M](https://www.thorlabs.com/thorproduct.cfm?partnumber=B1C/M) Blank Cover Plate, Metric £14.93\t\n",
    "- [Thorlabs BS013](https://www.thorlabs.com/thorproduct.cfm?partnumber=BS013) 50:50 Non-Polarizing Beamsplitter Cube, 400 - 700 nm, 1\" £168.81\n",
    "- [Thorlabs CCM1-BS013/M](https://www.thorlabs.com/thorproduct.cfm?partnumber=CCM1-BS013/M) Customer Inspired! 30 mm Cage Cube-Mounted Non-Polarizing Beamsplitter, 400 - 700 nm, M4 Tap £222.38\n",
    "\n",
    "Around 45 cm from SLM to centre of sampled volume.\n",
    "\n",
    "Available aspherics: 15.29 (LED), 4.51 (Spatial filter), 12.5 (divergent source) 10/3/2021\n",
    "\n",
    "The heatsink of the laser puts the output beam into a [Thorlabs PAF-X-11-A](https://www.thorlabs.com/thorproduct.cfm?partnumber=PAF-X-11-A&pn=PAF-X-11-A#11945) FiberPort, FC/APC, f=11.0 mm, 350 - 700 nm, Ø1.80 mm Waist. A fiber [Thorlabs M42L01](https://www.thorlabs.com/newgrouppage9.cfm?objectgroup_id=5794&pn=M42L01) Ø50 µm, 0.22 NA, Low OH, FC/PC-FC/PC Fiber Patch Cable, 1 m, goes then to a [Thorlabs PAF-X-2-A](https://www.thorlabs.com/thorproduct.cfm?partnumber=PAF-X-2-A&pn=PAF-X-2-A#ad-image-0) FiberPort, FC/PC & FC/APC, f=2.0 mm, 350 - 700 nm, Ø0.33 mm Waist, that is mounted in a [Thorlabs CP08FP/M](https://www.thorlabs.com/newgrouppage9.cfm?objectgroup_id=2958&pn=CP08FP/M) FiberPort Adapter for 30 mm Cage System, Enhanced Clamping. A [Thorlabs CFC-2X-A](https://www.thorlabs.com/thorproduct.cfm?partnumber=CFC-2X-A&pn=CFC-2X-A#3154) Adj. FC/PC and FC/APC Collimator, f = 2.0 mm, ARC: 350-700 nm is available for using an adapter (not available) to place in a SM1 tube.\n",
    "\n",
    "Damage threshold:\n",
    "- Air/silica interface : 1 MW/cm<sup>2</sup>·area<sub>eff</sub> = MAX PWR\n",
    "\n",
    "The effective area in single mode fibers is calculated as $\\pi (\\frac{\\mbox{MFD}}{2})^2$, where MFD is the mode field diameter. In multimode fibers, the core diameter is used instead of MFD.\n",
    "\n",
    "The multi-mode fiber will probably unpolarise the beam. One way of using unpolarised beams in an SLM is by using a PBS, mirror and 1/2-waveplate. But this needs a second BS to direct the returning beam back to the camera."
   ]
  },
  {
   "cell_type": "code",
   "execution_count": 3,
   "metadata": {},
   "outputs": [
    {
     "name": "stdout",
     "output_type": "stream",
     "text": [
      "Maximum allowed power in the fiber is 19.63 W.\n",
      "Diameter of output beam is 27.09 um. THIS IS NOT CORRECT\n",
      "Geometrically, the diameter of the output beam of the FiberPort is 902.10 um.\n",
      "The divergence angle of the collimated beam is 25.00 mrad.\n",
      "###\n",
      "Calculations of required optics for dealing with a wide beam.\n",
      "Bear in mind that optics are usually 1\", 2\", elliptical/1\" beam splitter with axis/diagonal 35.92 mm.\n",
      "A 21.00 mm wide laser beam that reflects on a mirror at 46.00° needs a surface with diameter 30.23 mm.\n",
      "Using two mirrors, the required width is 22.81 mm.\n",
      "###\n",
      "If the half-wave plate is in an angle of -22.50°, then the output angle with respect to the input is -45.00°.\n"
     ]
    }
   ],
   "source": [
    "import numpy as np\n",
    "# Maximum power allowed in fiber M42L01\n",
    "max_pow = 1e6 * np.pi * (.005/2)**2\n",
    "print(f'Maximum allowed power in the fiber is {max_pow:.2f} W.')\n",
    "# A beam coming from the fiber M42L01 goes into the FiberPort PAF-X-2-A\n",
    "# Let's assume that a 50 um 0.22 NA beam comes out from the fiber, \n",
    "wavel = 532e-9\n",
    "f_FP = 2e-3\n",
    "fiber_diam = 50e-6\n",
    "beam_diam_FP = 4*wavel*f_FP/np.pi/fiber_diam\n",
    "print(f'Diameter of output beam is {beam_diam_FP/1e-6:.2f} um. THIS IS NOT CORRECT')\n",
    "# It does not make sense. Let's assume that the lens collimates a beam with width equal to the fiber diameter and coming out with the fiber NA.\n",
    "NA_fiber = 0.22\n",
    "theta_fiber = np.arcsin(NA_fiber)\n",
    "beam_diam_FP = 2 * f_FP * np.tan(theta_fiber)\n",
    "print(f'Geometrically, the diameter of the output beam of the FiberPort is {beam_diam_FP/1e-6:.2f} um.')\n",
    "divergence = fiber_diam / f_FP\n",
    "print(f'The divergence angle of the collimated beam is {divergence/1e-3:.2f} mrad.')\n",
    "# This is the value that needs to be used for the calculation of the pinhole.\n",
    "\n",
    "print('###')\n",
    "beam_splitter_diag = 25.4e-3 * np.sqrt(2)\n",
    "print(f'Calculations of required optics for dealing with a wide beam.\\nBear in mind that optics are usually 1\", 2\", elliptical/1\" beam splitter with axis/diagonal {beam_splitter_diag/1e-3:.2f} mm.')\n",
    "# A 21 mm wide laser beam that reflects on a mirror at 45° needs a surface with diameter:\n",
    "wide_in = 21e-3\n",
    "angle = 46\n",
    "tilted_width = wide_in / np.cos(angle*np.pi/180)\n",
    "print(f'A {wide_in/1e-3:.2f} mm wide laser beam that reflects on a mirror at {angle:.2f}° needs a surface with diameter {tilted_width/1e-3:.2f} mm.')\n",
    "tilted_width_2mirrors = wide_in / np.cos(angle*np.pi/180/2)\n",
    "print(f'Using two mirrors, the required width is {tilted_width_2mirrors/1e-3:.2f} mm.')\n",
    "\n",
    "print('###')\n",
    "# Polarization of beam at the SLM must be 45°. The laser is horizontally polarized. \n",
    "# A half-wave plate at angle phi from horizontal direction obtains:\n",
    "phi = -np.pi/8\n",
    "aligned_comp = np.cos(phi) # Component of input that is aligned to the non-retarding axis\n",
    "ret_comp = np.sin(phi)\n",
    "# The output phasor is the sum of aligned_comp*exp(i phi) + ret_comp*exp(i (phi+pi/2))\n",
    "phasor_out = aligned_comp*np.exp(1j*phi) + ret_comp*np.exp(1j*(phi+np.pi/2))\n",
    "phase_out = np.angle(phasor_out)\n",
    "print(f'If the half-wave plate is in an angle of {phi/np.pi*180:.2f}°, then the output angle with respect to the input is {phase_out/np.pi*180:.2f}°.')"
   ]
  },
  {
   "cell_type": "markdown",
   "metadata": {},
   "source": [
    "## Using windows\n",
    "### About the diameter of the output window\n",
    "Sapphire windows can be bought from Thorlabs or Edmund Optics. Thorlabs only has 1/2\" (3 mm) and 1\" (5 mm). Edmund offers also in diameters of 30, 31.75, 35, 38.1 mm. If the source is placed far away from the sensor, the angle of the beam arriving to the sensor with diameter $D$ is smaller, giving a wider beam where the window is placed. The distance from source to sensor $z$ can be as much as 8 cm. Assuming that there is a distance $z_w = 1.2 \\cm$ between the window and the sensor, the minimum size of the window $D_w$ should satisfy $\\frac{D}{z} = \\frac{D_w}{z-z_w}$."
   ]
  },
  {
   "cell_type": "code",
   "execution_count": 6,
   "metadata": {},
   "outputs": [
    {
     "name": "stdout",
     "output_type": "stream",
     "text": [
      "The minimum size of the window to cover the entire sensor is 30.16 mm\n",
      "Maximum distance source/sensor when a ⌀25.4mm window is 12.0 mm from the sensor is 42.24 mm.\n"
     ]
    }
   ],
   "source": [
    "z = 8e-2  # m\n",
    "D = 35.48e-3  # m\n",
    "zw = 1.2e-2  # m\n",
    "Dw = D/z*(z-zw)\n",
    "print(\"The minimum size of the window to cover the entire sensor is {:.2f} mm\".format(Dw*1000))\n",
    "# Distance to make it work having a fixed Dw: (z-zw)D = z Dw -> z(D-Dw) = zw D -> z = zw D / (D-Dw)\n",
    "Dw = 25.4e-3  # m\n",
    "print(\"Maximum distance source/sensor when a \\u2300{}mm window is {:.1f} mm from the sensor is {:.2f} mm.\".format(Dw*1e3, zw*1000, 1e3*zw*D/(D-Dw)))"
   ]
  },
  {
   "cell_type": "markdown",
   "metadata": {},
   "source": [
    "### Effects of the windows\n",
    "The effect of a window with thickness $d_w$ to the spherical wavefront is analysed in terms of the geometrical ray with the largest angle $\\theta_i$ impinging to the window. The output angle is equal to the output angle, but the equivalent distance that the wavefront should travel in free space to get the same effect as going through the window is $$d'=\\frac{d_w \\cos\\theta_i}{n\\sqrt{1-\\left(\\frac{\\sin\\theta_i}{n}\\right)^2}} = \\frac{d_w}{\\tan\\theta_i}\\Phi(\\theta_i,n); \\Phi(\\theta_i,n) = \\frac{\\sin\\theta_i}{\\sqrt{n^2-\\sin^2\\theta_i}}$$\n",
    "The lateral distance from the input spot at the output is $w = d_w \\Phi(\\theta_i,n)$.\n",
    "\n",
    "If $\\sin \\theta_i = \\theta_i$, \n",
    "$$d'=\\frac{d_w}{\\sqrt{n^2-\\theta_i^2}}$$"
   ]
  },
  {
   "cell_type": "code",
   "execution_count": 17,
   "metadata": {},
   "outputs": [
    {
     "name": "stdout",
     "output_type": "stream",
     "text": [
      "Max angle is 0.29 rad (16.47 deg).\n",
      "The necessary diameter of the window is 3.29 mm.\n"
     ]
    },
    {
     "name": "stderr",
     "output_type": "stream",
     "text": [
      "C:\\Users\\j05625pe\\Anaconda3\\lib\\site-packages\\ipykernel_launcher.py:27: RuntimeWarning: invalid value encountered in true_divide\n",
      "C:\\Users\\j05625pe\\Anaconda3\\lib\\site-packages\\ipykernel_launcher.py:33: RuntimeWarning: invalid value encountered in true_divide\n",
      "C:\\Users\\j05625pe\\Anaconda3\\lib\\site-packages\\ipykernel_launcher.py:40: RuntimeWarning: invalid value encountered in true_divide\n"
     ]
    },
    {
     "data": {
      "image/png": "[encoded data removed]",
      "text/plain": [
       "<Figure size 1080x360 with 3 Axes>"
      ]
     },
     "metadata": {
      "needs_background": "light"
     },
     "output_type": "display_data"
    },
    {
     "data": {
      "image/png": "[encoded data removed]",
      "text/plain": [
       "<Figure size 432x288 with 1 Axes>"
      ]
     },
     "metadata": {
      "needs_background": "light"
     },
     "output_type": "display_data"
    }
   ],
   "source": [
    "dw = 1e-3   # thickness window\n",
    "n = 1.79   # 355 nm, 1.76 at higher wavelengths\n",
    "locw = 5e-3  # Location of the window from the spherical source\n",
    "L_source_sensor = 6e-2  # This distance, and the size of the sensor, are used to get the angles of interest\n",
    "sensor_diagonal = 35.48e-3\n",
    "max_angle = np.arctan(sensor_diagonal/2/L_source_sensor)\n",
    "print(\"Max angle is {:.2f} rad ({:.2f} deg).\".format(max_angle, max_angle*180/np.pi))\n",
    "total_eq_distance = locw + dw/np.sqrt(n**2-max_angle**2)\n",
    "output_rad = np.tan(max_angle)*total_eq_distance\n",
    "print(\"The necessary diameter of the window is {:.2f} mm.\".format(output_rad*2*1e3))\n",
    "thetas = np.linspace(0,max_angle,100)\n",
    "ys = locw * np.tan(thetas)  # height in window\n",
    "# Angles of propagation inside the window\n",
    "thetas_in = np.arcsin(np.sin(thetas)/n)\n",
    "# Locations on the output of the window\n",
    "ys_out = ys + dw*np.tan(thetas_in)\n",
    "# Locations on the output if there wasn't window\n",
    "ys_out_nw = (locw + dw)*np.tan(thetas)\n",
    "# New source location\n",
    "new_sources = np.hstack([0, ys_out[1:] / np.tan(thetas[1:])])\n",
    "\n",
    "fig,ax = plt.subplots(1,3,figsize=(15,5))\n",
    "ax[0].plot(ys*1e3,ys_out*1e3,ys*1e3,ys_out_nw*1e3)\n",
    "ax[0].set_title(\"Height transference of the rays\")\n",
    "ax[0].set_xlabel(\"Input height of ray [mm]\")\n",
    "ax[0].set_ylabel(\"Output height of ray [mm]\")\n",
    "ax[1].plot(ys*1e3,ys_out/ys_out_nw)\n",
    "ax[1].set_title(\"Height transference vs no-window\")\n",
    "ax[2].plot(ys[1:]*1e3,1e3*new_sources[1:])\n",
    "ax[2].set_title(\"Equivalent position of the source [mm]\")\n",
    "\n",
    "Phi = np.sin(thetas) / n /np.sqrt(1-(np.sin(thetas)/n)**2)\n",
    "effects = Phi / np.tan(thetas)   \n",
    "# fig,ax = plt.subplots(1,2)\n",
    "# ax[0].plot(thetas,effects)\n",
    "# ax[1].plot(thetas,effects*dw)\n",
    "ws = dw * Phi   # displacement of beam at the output of the window\n",
    "ws_free = dw * np.tan(thetas) # displacement of beam if it was free space\n",
    "fig,ax = plt.subplots(1,1)\n",
    "ax.plot(thetas,ws/ws_free)\n",
    "ax.set_title(\"Height transference vs no-window using Snell's law\")\n",
    "\n",
    "# Using ABCD matrix\n",
    "v_in = np.hstack((ys, thetas))\n",
    "v_out = np.zeros_like(v_in)\n",
    "# for \n",
    "# ABCD = \n"
   ]
  },
  {
   "cell_type": "markdown",
   "metadata": {},
   "source": [
    "It is important to know the diameter of the beam after the source window for the Laser Safety calculations. If the window is placed $z=1\\mm$ away from the spot, and NA=0.5, the diameter is"
   ]
  },
  {
   "cell_type": "code",
   "execution_count": null,
   "metadata": {},
   "outputs": [],
   "source": [
    "z = 1e-3\n",
    "NA = 0.5\n",
    "D = 2*z/np.sqrt(1/NA**2-1)\n",
    "print(D)"
   ]
  },
  {
   "cell_type": "markdown",
   "metadata": {},
   "source": [
    "### Using Snell's Law in Fourier space\n",
    "Snell's Law:\n",
    "$$n_i \\sin \\theta_i = n_o \\sin \\theta_o$$\n",
    "When a particular wavefront propagating in free space goes through a flat interface with a refractive index of $n$, each spatial frequency component of the wavefront is related to an angle of incidence, $f_i(x)=a_{\\theta_i} \\sin(k\\sin\\theta_i x)$. After the interface, this component changes to $f_o(x)=a_{\\theta_o} \\sin(k\\sin\\theta_o x) = a_{\\theta_o} \\sin(k/n\\sin\\theta_i x)$. Where the change of amplitude is calculated from the Fresnel coefficients that depend on polarization.\n",
    "\n",
    "### Using ABCD matrix\n",
    "Ray tracing under the paraxial approximation is done using the ABCD matrix formulation.\n",
    "\\\\[ \\begin{bmatrix} y_2\\\\ \\theta_2\\end{bmatrix} = \\begin{bmatrix} A & B\\\\C & D \\end{bmatrix} \\begin{bmatrix} y_1\\\\ \\theta_1\\end{bmatrix} \\\\]\n",
    "Usual matrices are:\n",
    "\\\\[\\mbox{Propagation }\\begin{bmatrix} 1 & 0\\\\d & 1 \\end{bmatrix} \\mbox{, Lens with focal length } f \\begin{bmatrix} 1 & -\\frac{1}{f}\\\\0 & 1 \\end{bmatrix} \\mbox{, Flat interface } \\begin{bmatrix} 1 & 0\\\\0 & \\frac{n_1}{n_2} \\end{bmatrix} \\mbox{, Single prism } \\begin{bmatrix} k & \\frac{d}{nk} \\\\ 0 & \\frac{1}{k} \\end{bmatrix},\\\\]\n",
    "\\\\(k = (cos{\\displaystyle \\psi }/cos{\\displaystyle \\phi })\\\\) is the beam expansion factor, where ${\\displaystyle \\phi}$ is the angle of incidence, ${\\displaystyle \\psi }$  is the angle of refraction, $d =$ prism path length, $n =$ refractive index of the prism material. This matrix applies for orthogonal beam exit.\n"
   ]
  },
  {
   "cell_type": "markdown",
   "metadata": {},
   "source": [
    "## Spatial filter with 3 lenses to get higher beam magnification\n",
    "A third positive (biconvex) relay lens is added between typical lenses. The lens will image the focused beam to the focal point of the output lens.\n",
    "\n",
    "If a magnification $M=\\frac{d_o}{d_i}$ is seeked, and $\\frac{1}{f_r}=\\frac{1}{d_i}+\\frac{1}{d_o}$, choosing a particular $f_r$, will get a distance from centre of the lens to the focused beam (pinhole) and the distance $d_i$ from the lens to the imaged focused beam. So,\n",
    "$$d_i = \\frac{M+1}{M} f_r$$\n",
    "$$d_o = M d_i$$"
   ]
  },
  {
   "cell_type": "code",
   "execution_count": null,
   "metadata": {},
   "outputs": [],
   "source": [
    "M = 1/3\n",
    "f = 25\n",
    "di = (M+1)/M*f\n",
    "do = M*di\n",
    "print(\"d_o = {} mm, d_i = {} mm\".format(do, di))"
   ]
  },
  {
   "cell_type": "markdown",
   "metadata": {},
   "source": [
    "## A neutral density filter calculation\n",
    "\n",
    "I have an NDF with OD = 0.5 and I want another one that attenuates half of that. $T_1 = I/I_0 = 10^{-0.5}$. I want double output. $T_2 = 2 T_1 = 10^{-x}$. So, $x = 0.5 - \\log_{10}2$."
   ]
  },
  {
   "cell_type": "code",
   "execution_count": null,
   "metadata": {},
   "outputs": [],
   "source": [
    "print(0.5-np.log10(2))"
   ]
  },
  {
   "cell_type": "markdown",
   "metadata": {},
   "source": [
    "## POs\n",
    "\n",
    "Purchase orders (PO) Counting in DH Setups notebook too. Requisitions:\n",
    "\n",
    "5. 1986114  Creation Date 22/03/2021\n"
   ]
  }
 ],
 "metadata": {
  "kernelspec": {
   "display_name": "Python 3",
   "language": "python",
   "name": "python3"
  },
  "language_info": {
   "codemirror_mode": {
    "name": "ipython",
    "version": 3
   },
   "file_extension": ".py",
   "mimetype": "text/x-python",
   "name": "python",
   "nbconvert_exporter": "python",
   "pygments_lexer": "ipython3",
   "version": "3.7.10"
  }
 },
 "nbformat": 4,
 "nbformat_minor": 4
}
