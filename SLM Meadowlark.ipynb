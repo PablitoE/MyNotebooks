{
 "cells": [
  {
   "cell_type": "markdown",
   "id": "imperial-stanley",
   "metadata": {},
   "source": [
    "# Blink Overdrive Plus\n",
    "\n",
    "Select pattern file (image), and it's immediately shown in the SLM. Use polarizer not at 0° or 90° to see if it's working. Sequences are built by the order of files according to their filenames.\n",
    "\n",
    "Stabilises at 40°C (with or without cap).\n",
    "\n",
    "Pattern generation functions, also in DLL.\n",
    "\n",
    "# Calibration\n",
    "\n",
    "Calibration should be done at the operating temperature. Look-up-table files \\*.LUT or \\*.txt, have 0-255 corresponding to 0-2047 values of voltage for pixels, or phase from 0 to 2$\\pi$. `slmXXXX_atYYY.blt`, where XXXX corresponds to the serial number of your SLM, and YYY corresponds to the wavelength.\n",
    "\n",
    "A wavefront correction file can be used to avoid aberrations.\n",
    "\n",
    "DON'T CHANGE THE COVERGLASS VOLTAGE.\n",
    "\n",
    "# Triggering\n",
    "\n",
    "SMA connectors for external. BlinkPlus needs restart after changing software/external. Output pulse of acknowledge. 1.18 ms after fall of input trigger the image changes.\n",
    "\n",
    "# PC\n",
    "\n",
    "- username: ./SLM_PC\n",
    "- password: slmpcpass"
   ]
  },
  {
   "cell_type": "code",
   "execution_count": null,
   "id": "basic-progress",
   "metadata": {},
   "outputs": [],
   "source": []
  }
 ],
 "metadata": {
  "kernelspec": {
   "display_name": "Python 3",
   "language": "python",
   "name": "python3"
  },
  "language_info": {
   "codemirror_mode": {
    "name": "ipython",
    "version": 3
   },
   "file_extension": ".py",
   "mimetype": "text/x-python",
   "name": "python",
   "nbconvert_exporter": "python",
   "pygments_lexer": "ipython3",
   "version": "3.7.10"
  }
 },
 "nbformat": 4,
 "nbformat_minor": 5
}
