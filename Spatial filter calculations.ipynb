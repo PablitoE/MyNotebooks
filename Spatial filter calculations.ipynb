{
 "cells": [
  {
   "cell_type": "markdown",
   "id": "canadian-adams",
   "metadata": {},
   "source": [
    "# Spatial filter calculations\n",
    "Set-up: aspheric lens with convex shape towards input, pinhole, collimating lens with convex towards output.\n",
    "\n",
    "Diameter of focused beam: $d_f = \\frac{4 M^2 \\lambda f_1}{\\pi D}$, where $M^2$ is a beam quality factor (usually 1), $f_1$ is the focal length of the aspheric lens and $D$ is the beam diameter of the laser.\n",
    "\n",
    "The output diameter is $d_o = \\frac{f_2}{f_1}D$. Given by clear aperture of the focusing lens for the diverging source or the input diameter of the lens in a collimated beam situation.\n",
    "\n",
    "Available aspheric lenses:\n",
    "- C230TMD-A: f = 4.51mm, NA = 0.55 Mounted Geltech Aspheric Lens, 5mm clear aperture (CA), AR: 350 to 700nm (used in 355 nm setup as spatial filter)\n",
    "- C105TMD-A: f = 5.5 mm, NA = 0.6, Mounted Aspheric Lens, 5mm CA, ARC: 350 - 700 nm (bought for 532 nm spatial filter)\n",
    "- C397TMD-A: f = 11.0 mm, NA = 0.3, Mounted Aspheric Lens, 6.2mm CA, ARC: 350 - 700 nm (bought for 532 nm diverging source). It could be used with the Horus laser and a 100 um pinhole.\n",
    "- C260TMD-A: f = 15.29 mm, NA = 0.16, Mounted Aspheric Lens, 5mm CA, ARC: 350 - 700 nm (LED source)\n",
    "- EO #87984: 12.5mm Dia 0.50 NA UV-VIS Coated, UV Fused Silica Aspheric Lens, 11mm CA (used in 355 nm setup as diverging source)"
   ]
  },
  {
   "cell_type": "code",
   "execution_count": 2,
   "id": "provincial-model",
   "metadata": {},
   "outputs": [
    {
     "name": "stdout",
     "output_type": "stream",
     "text": [
      "Diameter of focused beam with beam quality M^2=1 is 37.25 um. The pinhole diameter should be 48.43 um.\n",
      "The output diameter is 1.82 mm.\n",
      "-----------------------------------------------------------------------------------\n",
      "Diameter of focused beam with beam quality M^2=1 is 76.92 um. The focal length of the aspheric lens should be 11.36 mm.\n",
      "The microscope objetive that may get this focal length has magnification 14.1X.\n",
      "The required focal length for the collimating lens is 908.50 mm.\n"
     ]
    }
   ],
   "source": [
    "import numpy as np\n",
    "# Calculations with known aspheric lens, unknown pinhole\n",
    "wavel = 532e-9\n",
    "f1 = 5.5e-3\n",
    "beam_diam = .1e-3  # 1mm for CryLas and ElforLight, 0.1 mm for Horus\n",
    "M2 = 1   # Beam quality M^2 \n",
    "f2 = 100e-3\n",
    "\n",
    "beam_diam_foc = 4*M2*wavel*f1/np.pi/beam_diam\n",
    "print(f'Diameter of focused beam with beam quality M^2=1 is {beam_diam_foc/1e-6:.2f} um. The pinhole diameter should be {beam_diam_foc*1.3/1e-6:.2f} um.')\n",
    "output_diam = f2/f1*beam_diam\n",
    "print(f'The output diameter is {output_diam/1e-3:.2f} mm.')\n",
    "\n",
    "# Calculations with unknown aspheric lens, known pinhole\n",
    "print('-----------------------------------------------------------------------------------')\n",
    "pinhole_diameter = 100e-6\n",
    "beam_diam = .1e-3  # 1mm for CryLas and ElforLight, 0.1 mm for Horus\n",
    "M2 = 1   # Beam quality M^2 \n",
    "expected_output_diameter = 8e-3\n",
    "\n",
    "f1_required = pinhole_diameter / 1.3 / 4 / M2 / wavel * np.pi * beam_diam\n",
    "beam_diam_foc = 4*M2*wavel*f1_required/np.pi/beam_diam\n",
    "print(f'Diameter of focused beam with beam quality M^2=1 is {beam_diam_foc/1e-6:.2f} um. The focal length of the aspheric lens should be {f1_required/1e-3:.2f} mm.')\n",
    "print(f'The microscope objetive that may get this focal length has magnification {160e-3 / f1_required:.1f}X.')\n",
    "f2_required = expected_output_diameter * f1_required / beam_diam\n",
    "print(f'The required focal length for the collimating lens is {f2_required/1e-3:.2f} mm.')\n"
   ]
  },
  {
   "cell_type": "markdown",
   "id": "domestic-comedy",
   "metadata": {},
   "source": [
    "# Collimated output for lensless holography"
   ]
  },
  {
   "cell_type": "code",
   "execution_count": 11,
   "id": "liable-optimization",
   "metadata": {},
   "outputs": [
    {
     "name": "stdout",
     "output_type": "stream",
     "text": [
      "The required focal length of the output collimating lens for an output with diameter 38 mm is 232.22 mm.\n",
      "The required collimator for the spatial filter is 37.89 mm. Using one with 50 mm\n",
      "The required collimator for the second beam expander is 67.42 mm.\n",
      "The total distance will be at least 131.4 mm.\n",
      "Using the available lens with focal length of 60 mm, the focusing lens should have focal length f=9.79 mm.\n"
     ]
    }
   ],
   "source": [
    "# Get the required distance (focal length) without second beam expander\n",
    "laser_beam_diameter = 0.9   # mm gem532 0.9mm, crylas355nm 1mm\n",
    "f1 = 5.5   # 532 nm 5.5mm, 355nm 4.51mm\n",
    "output_diameter = 38   # mm , around 1.5 inches\n",
    "f_out = output_diameter / laser_beam_diameter * f1\n",
    "print(f'The required focal length of the output collimating lens for an output with diameter {output_diameter} mm is {f_out:.2f} mm.')\n",
    "\n",
    "# Get the required focal length and total distance if using a second beam expander\n",
    "focusing_aspheric_aperture = 6.2   # 6.2mm 532nm, 12.5mm 355nm, 5 mm LED\n",
    "f_focusing = 11  # 11mm focal length for 532nm and 355nm, 15.29 mm LED\n",
    "f_collimator_spatial_filter = focusing_aspheric_aperture / laser_beam_diameter * f1\n",
    "f_col_commercial = 50   # 25 mm LA1560-A, 50 mm available bi-convex\n",
    "print(f'The required collimator for the spatial filter is {f_collimator_spatial_filter:.2f} mm. Using one with {f_col_commercial} mm')\n",
    "second_input_beam = min(focusing_aspheric_aperture, laser_beam_diameter * f_col_commercial / f1)\n",
    "f_second_col = output_diameter / second_input_beam * f_focusing\n",
    "print(f'The required collimator for the second beam expander is {f_second_col:.2f} mm.')\n",
    "total_distance_from_first_aspheric = f_col_commercial + f_focusing + 3 + f_second_col\n",
    "print(f'The total distance will be at least {total_distance_from_first_aspheric:.1f} mm.')\n",
    "available_f_out = 60\n",
    "required_aspheric = available_f_out / output_diameter * second_input_beam\n",
    "print(f'Using the available lens with focal length of {available_f_out} mm, the focusing lens should have focal length f={required_aspheric:.2f} mm.')\n",
    "# For 355 nm it is better to use the available EO #87984 but only illuminating a part of it (6mm). The first collimator\n",
    "# has to be f1=25mm (required LA1560-A) and the second one f2=75mm (required LA1145-A)\n",
    "# With 532 nm, the collimators should be f1=50mm (available bi-convex) and f2=75mm (required LA1145-A)"
   ]
  }
 ],
 "metadata": {
  "kernelspec": {
   "display_name": "Python 3",
   "language": "python",
   "name": "python3"
  },
  "language_info": {
   "codemirror_mode": {
    "name": "ipython",
    "version": 3
   },
   "file_extension": ".py",
   "mimetype": "text/x-python",
   "name": "python",
   "nbconvert_exporter": "python",
   "pygments_lexer": "ipython3",
   "version": "3.7.10"
  }
 },
 "nbformat": 4,
 "nbformat_minor": 5
}
