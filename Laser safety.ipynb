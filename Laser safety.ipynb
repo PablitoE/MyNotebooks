{
 "cells": [
  {
   "cell_type": "markdown",
   "metadata": {},
   "source": [
    "# Risk assessment\n",
    "\n",
    "## Safety goggles\n",
    "\n",
    "Available goggles: Thorlabs LG3\n",
    "- 180 – 315 nm D LB7\n",
    "- 180 – 315 nm IR LB4\n",
    "- 315 – 532 nm DIRM LB6\n",
    "\n",
    "Get MPW from EN207. Energy densities of attenuated beams should be less than maximum permissible exposure (MPE).\n",
    "\n",
    "### Direct beam 532nm CW\n",
    "\n",
    "Scale of protection LBn with $n > \\log_{10} P – 1$ for CW laser @532nm"
   ]
  },
  {
   "cell_type": "code",
   "execution_count": 1,
   "metadata": {},
   "outputs": [
    {
     "name": "stdout",
     "output_type": "stream",
     "text": [
      "Irradiance : 25984.48 W/m²\n",
      "LBn should have n > 3.41\n"
     ]
    }
   ],
   "source": [
    "import numpy as np\n",
    "mm = 1e-3;\n",
    "uu = 1e-6;\n",
    "nn = 1e-9;\n",
    "# Power density\n",
    "diameter = 7 * mm # Table 2 60825\n",
    "laser_power = 1 # W\n",
    "P = laser_power / (np.pi * (diameter/2)**2)\n",
    "print(f'Irradiance : {P:.2f} W/m\\u00b2')\n",
    "n = np.log10(P) - 1\n",
    "print(f'LBn should have n > {n:.2f}')"
   ]
  },
  {
   "cell_type": "markdown",
   "metadata": {},
   "source": [
    "### Direct wide collimated beam 532nm CW\n",
    "\n",
    "The beam is expanded to a diameter of 20.5 mm for using with the Meadowlarks SLM."
   ]
  },
  {
   "cell_type": "code",
   "execution_count": 2,
   "metadata": {},
   "outputs": [
    {
     "name": "stdout",
     "output_type": "stream",
     "text": [
      "Irradiance : 3029.72 W/m²\n",
      "LBn should have n > 2.48\n"
     ]
    }
   ],
   "source": [
    "diameter = 20.5 * mm\n",
    "P = laser_power / (np.pi * (diameter/2)**2)\n",
    "print(f'Irradiance : {P:.2f} W/m\\u00b2')\n",
    "n = np.log10(P) - 1\n",
    "print(f'LBn should have n > {n:.2f}')"
   ]
  },
  {
   "cell_type": "markdown",
   "metadata": {},
   "source": [
    "### Diffuse reflection from wide collimated beam 532nm CW (naked eye)\n",
    "\n",
    "The beam is expanded to a diameter of 20.5 mm for using with the Meadowlarks SLM and the reflection from a rough reflective surface is considered as an extended source seen from a distance of 100 mm. Aversion response $t=0.25$ s.\n",
    "\n",
    "All the incident power is reflected homogeneously in all directions (half sphere, area $2\\pi r^2$)\n",
    "\n",
    "60825 Table 6: MPE = $18 t^{0,75} C_6 \\mbox{J/m}^2$\n",
    "\n",
    "$\\alpha$ is the angular subtense: $\\tan\\frac{\\alpha}{2}=r_\\mathrm{source} / 100 \\mathrm{mm}$."
   ]
  },
  {
   "cell_type": "code",
   "execution_count": 3,
   "metadata": {},
   "outputs": [
    {
     "name": "stdout",
     "output_type": "stream",
     "text": [
      "Angular subtense : 204.29 mrad.\n"
     ]
    }
   ],
   "source": [
    "d = 100*mm\n",
    "alpha = 2*np.arctan(diameter/2/.1)\n",
    "print(f'Angular subtense : {alpha*1e3:.2f} mrad.')"
   ]
  },
  {
   "cell_type": "markdown",
   "metadata": {},
   "source": [
    "Table 8 60825: $C_6=66.7$ as $\\alpha>100$ mrad."
   ]
  },
  {
   "cell_type": "code",
   "execution_count": 4,
   "metadata": {},
   "outputs": [
    {
     "name": "stdout",
     "output_type": "stream",
     "text": [
      "The irradiance of the diffused sourse is 15.92 W/m², and the ocular MPE is 1697.90 W/m².\n"
     ]
    }
   ],
   "source": [
    "C6 = 66.7\n",
    "averse_response = 0.25 # s\n",
    "MPE_ocular = 18 * averse_response**.75 * C6 # J/m2\n",
    "MPE_ocular = MPE_ocular / averse_response # W/m2\n",
    "irradiance = laser_power/2/np.pi/d**2\n",
    "print(f'The irradiance of the diffused sourse is {irradiance:.2f} W/m\\u00b2, and the ocular MPE is {MPE_ocular:.2f} W/m\\u00b2.')"
   ]
  },
  {
   "cell_type": "markdown",
   "metadata": {},
   "source": [
    "### Stare at diffuse reflection from direct beam 532nm CW\n",
    "\n",
    "The time in this situation is 100 s. MPE 10 W/m$^2$ (Table 6 60825). NOT SAFE UNLESS ATTENUATED."
   ]
  },
  {
   "cell_type": "code",
   "execution_count": 5,
   "metadata": {},
   "outputs": [
    {
     "name": "stdout",
     "output_type": "stream",
     "text": [
      "A safe distance to stare at the diffuse reflection of the direct beam is 0.13 m\n"
     ]
    }
   ],
   "source": [
    "NOHD = np.sqrt(laser_power/2/np.pi/10)\n",
    "\n",
    "print(f'A safe distance to stare at the diffuse reflection of the direct beam is {NOHD:.2f} m')"
   ]
  },
  {
   "cell_type": "markdown",
   "metadata": {},
   "source": [
    "### Direct beam 355nm pulsed\n",
    "\n",
    "Laser UV @355nm  output diameter 0.3 mm. As it is a pulsed laser, we need to consider the single pulse and a 30 ks train of pulses.\n",
    "\n",
    "Scale of protection LBn with $n \\geq \\max(\\log_{10} E/5 – 3, \\log_{10} Em – 1)$ for pulsed laser @355nm"
   ]
  },
  {
   "cell_type": "markdown",
   "metadata": {},
   "source": [
    "### PD IEC TR 60825-14:2004\n",
    "\n",
    "Table 2. Spectral region 180 to 400 nm : Aperture diameter for Eye 1 mm, Skin 3,5 mm.\n",
    "\n",
    "*5.1* Exposure duration of 30 ks is used for wavelength less than 400 nm. *5.2* The exposure from any single pulse shall not exceed the MPE for a single pulse. The average exposure for 30 ks pulse train shall not exceed the MPE given in Tables 5 and 7 for a 30 ks single pulse (not extended source). \n",
    "\n",
    "### 60825 Single pulse\n",
    "\n",
    "**Cornea Table 5** $\\;$ : 315 to 400 nm : MPE = $5,6 \\times 10^3 t^{0,25} \\mbox{J/m}^2$. Use $t=1.4$ ns.\n",
    "\n",
    "**Skin Table 7** $\\;\\;\\;\\;$ : Same as cornea.\n",
    "\n",
    "### 60825 Repetitive pulses : 30 ks\n",
    "\n",
    "**Cornea Table 5** $\\;$ : 315 to 400 nm : MPE = 10 W/m$^2$. Same as in EN207.\n",
    "\n",
    "**Skin Table 7** $\\;\\;\\;\\;$ : Same as cornea.\n"
   ]
  },
  {
   "cell_type": "code",
   "execution_count": 6,
   "metadata": {},
   "outputs": [
    {
     "name": "stdout",
     "output_type": "stream",
     "text": [
      "The MPE for a 1.4 ns single pulse at 355 nm is 34.25 J/m².\n"
     ]
    }
   ],
   "source": [
    "pulse_duration = 1.4 * nn\n",
    "pulse_energy = 45 * uu # uJ\n",
    "\n",
    "MPE_single = 5.6e3 * np.power(pulse_duration,0.25)\n",
    "print(f'The MPE for a {pulse_duration/nn:.1f} ns single pulse at 355 nm is {MPE_single:.2f} J/m\\u00b2.')"
   ]
  },
  {
   "cell_type": "code",
   "execution_count": 13,
   "metadata": {},
   "outputs": [
    {
     "name": "stdout",
     "output_type": "stream",
     "text": [
      "H_cornea = 57.30 Jm^(-2), H_skin = 4.68 Jm^(-2)\n",
      "Attenuation = 0.60. A laser safety goggle with OD = 0.22 should be used in regards to the single pulse analysis. n = 2\n",
      "For 30ks (multipulse): H_cornea = 57.30 kWm^(-2), H_skin = 4.68 kWm^(-2)\n",
      "LBn should have n > 3.76\n"
     ]
    }
   ],
   "source": [
    "# Simple pulse\n",
    "diameter_ocular = 1*mm   # Table 2 60825  # 0.3 * mm # mm\n",
    "E_ocular = pulse_energy / (diameter_ocular/2)**2 / np.pi\n",
    "n1 = np.log10(E_ocular/5)-3\n",
    "diameter_skin = 3.5*mm\n",
    "E_skin = pulse_energy / (diameter_skin/2)**2 / np.pi\n",
    "print(f\"H_cornea = {E_ocular:.2f} Jm^(-2), H_skin = {E_skin:.2f} Jm^(-2)\")\n",
    "OD_goggle = -np.log10(MPE_single / E_ocular)\n",
    "print(f\"Attenuation = {MPE_single / E_ocular:.2f}. A laser safety goggle with OD = {OD_goggle:.2f} should be used in regards to the single pulse analysis. n = {-n1:.0f}\")\n",
    "\n",
    "# Multi pulse\n",
    "freq = 1e3 # Hz\n",
    "Em_ocular = E_ocular * freq\n",
    "Em_skin = E_skin * freq\n",
    "print(f\"For 30ks (multipulse): H_cornea = {Em_ocular/1e3:.2f} kWm^(-2), H_skin = {Em_skin/1e3:.2f} kWm^(-2)\")\n",
    "nM = np.log10(Em_ocular)-1\n",
    "\n",
    "n = np.max([n1,nM])\n",
    "print(f'LBn should have n > {n:.2f}')"
   ]
  },
  {
   "cell_type": "markdown",
   "metadata": {},
   "source": [
    "## MPE comparations of divergent open beam @355nm pulsed\n",
    "\n",
    "Suppose that a mirror is placed in the open beam path and eye/skin are exposed to the reflection 10 cm apart from the source-side window. A collimated wavefront illuminates completely a lens with diameter=12.5mm f=12.5mm 0.5 NA. A 5 mm thick sapphire window (n=1.79) is placed 2 mm apart from the focused point. A neutral density filter OD 0.5 is used in the setup with attenuation $10^{-OD}$.\n",
    "\n",
    "The 355nm laser is type R (1.4 ns pulse). 45 uJ per pulse. 1000 pulses per second maximum repetition.\n",
    "\n",
    "### EN207 Single pulse\n",
    "\n",
    "Simplified conservative MPE single pulse EN207 (Table A.1) for the cornea is 5 mJ/m$^2$.\n",
    "\n",
    "### EN207 >315 nm Repetitive pulses\n",
    "\n",
    "A 5 s time base is considered. Simplified conservative MPE is the irradiance 10 W/m$^2$ (Table A.1)."
   ]
  },
  {
   "cell_type": "code",
   "execution_count": 8,
   "metadata": {},
   "outputs": [
    {
     "name": "stdout",
     "output_type": "stream",
     "text": [
      "The output window interface is 4.79 mm apart from the focused point.\n",
      "The diameter of the beam at 100.0 mm from the source-side window is 121.00 mm.\n",
      "The beam energy density is 1.24 mJ/m², while 5 mJ/m² is the MPE.\n",
      "The beam irradiance is 1.24 W/m², while 10 W/m² is the MPE.\n"
     ]
    }
   ],
   "source": [
    "# Diameter of the beam at 10 cm from the focus point (almost the same as from output window interface)\n",
    "OD_ndf = 0.5\n",
    "nSapphire = 1.79\n",
    "output_window_interface = 2*mm + 5*mm/nSapphire\n",
    "print(f'The output window interface is {output_window_interface/mm:.2f} mm apart from the focused point.')\n",
    "distance = 100*mm  # EN207 A.2\n",
    "NA_lens = 0.5\n",
    "diam_distance = 2*np.tan(np.arcsin(NA_lens))*(distance + output_window_interface)\n",
    "print(f'The diameter of the beam at {distance/mm:.1f} mm from the source-side window is {diam_distance/mm:.2f} mm.')\n",
    "pulse_energy_atten = pulse_energy * np.power(10,-OD_ndf)\n",
    "EnergyDensity_single_pulse = pulse_energy_atten / (np.pi * (diam_distance/2)**2)\n",
    "print(f'The beam energy density is {EnergyDensity_single_pulse/mm:.2f} mJ/m\\u00b2, while 5 mJ/m\\u00b2 is the MPE.')\n",
    "Irradiance = EnergyDensity_single_pulse * freq\n",
    "print(f'The beam irradiance is {Irradiance:.2f} W/m\\u00b2, while 10 W/m\\u00b2 is the MPE.')"
   ]
  },
  {
   "cell_type": "markdown",
   "metadata": {},
   "source": [
    "## MPE comparations of divergent open beam @532nm CW\n",
    "\n",
    "Suppose that a mirror is placed in the open beam path and eye/skin are exposed to the reflection 10 cm apart from the source-side window. A collimated wavefront illuminates completely a lens with diameter=12.5mm f=12.5mm 0.5 NA. A 5 mm thick sapphire window (n=1.79) is placed 2 mm apart from the focused point. A neutral density filter OD 0.5 is used in the setup with attenuation $10^{-OD}$.\n",
    "\n",
    "The 532nm laser is type D 1W.\n",
    "\n",
    "### EN207 \n",
    "\n",
    "Simplified conservative MPE single pulse EN207 (Table A.1) for the cornea is irradiance 10 W/m$^2$.\n",
    "\n",
    "### PD IEC TR 60825-14:2004\n",
    "\n",
    "Table 2. Spectral region 400 to 1400 nm : Aperture diameter for Eye 7 mm, Skin 3,5 mm.\n",
    "\n",
    "*5.1* 100 s may be used as the maximum duration of exposure for laser radiation at wavelengths above 400 nm. For accidental exposure to visible laser radiation (400 nm – 700 nm) where purposeful staring is not intended or anticipated, the aversion response time of 0,25 s may be used. \n",
    "\n",
    "**Cornea Table 5** $\\;$ : T=0.25s, 500 to 700 nm : MPE = $18 t^{0,75} \\mbox{J/m}^2$.\n",
    "\n",
    "**Skin Table 7** $\\;\\;\\;\\;$ : T=100s, 500 to 700 nm : MPE = $2000 \\mbox{W/m}^2$.\n",
    "\n",
    "NOHD (nominal ocular hazard distance) : "
   ]
  },
  {
   "cell_type": "code",
   "execution_count": 9,
   "metadata": {
    "scrolled": true
   },
   "outputs": [
    {
     "name": "stdout",
     "output_type": "stream",
     "text": [
      "The output window interface is 3.79 mm apart from the focused point.\n",
      "The diameter of the beam at 100.0 mm from the source-side window is 65.28 mm.\n",
      "The beam irradiance is 94.47 W/m², while 25.46 W/m² is the MPE.\n",
      "The ocular NOHD is 0.20 m. And for the skin is 0.02 m.\n"
     ]
    }
   ],
   "source": [
    "# Diameter of the beam at 10 cm from the focus point (almost the same as from output window interface)\n",
    "OD_ndf = 0.5\n",
    "nSapphire = 1.79\n",
    "output_window_interface = 1*mm + 5*mm/nSapphire\n",
    "print(f'The output window interface is {output_window_interface/mm:.2f} mm apart from the focused point.')\n",
    "distance = 100*mm  # EN207 A.2\n",
    "NA_lens = 0.3\n",
    "diam_distance = 2*np.tan(np.arcsin(NA_lens))*(distance + output_window_interface)\n",
    "print(f'The diameter of the beam at {distance/mm:.1f} mm from the source-side window is {diam_distance/mm:.2f} mm.')\n",
    "laser_power = 1 # W\n",
    "attenuated_laser_power = laser_power * np.power(10,-OD_ndf)\n",
    "Irradiance = attenuated_laser_power / (np.pi * (diam_distance/2)**2)\n",
    "t_ocular = 0.25   # s\n",
    "MPE_ocular = 18 * t_ocular**.75 / t_ocular  # W/m2\n",
    "print(f'The beam irradiance is {Irradiance:.2f} W/m\\u00b2, while {MPE_ocular:.2f} W/m\\u00b2 is the MPE.')\n",
    "MPE_skin = 2000\n",
    "NOHD_ocular = np.sqrt(attenuated_laser_power/np.pi/MPE_ocular)/np.tan(np.arcsin(NA_lens))-output_window_interface\n",
    "NOHD_skin = np.sqrt(attenuated_laser_power/np.pi/MPE_skin)/np.tan(np.arcsin(NA_lens))-output_window_interface\n",
    "print(f'The ocular NOHD is {NOHD_ocular:.2f} m. And for the skin is {NOHD_skin:.2f} m.')"
   ]
  },
  {
   "cell_type": "markdown",
   "metadata": {},
   "source": [
    "# Laser HORUS\n",
    "\n",
    "## Direct beam 532nm pulsed\n",
    "\n",
    "Laser @532nm output diameter 0.1 mm. As it is a pulsed laser (20 kHz), we need to consider the single pulse and a 30 ks train of pulses. Pulses are 1ns long and have energy of 10 uJ.\n",
    "\n",
    "EN207: type R. From Table A.1, the MPE is 5 mJm$^{-2}$. Scale of protection LBn with $n \\geq \\max(\\log_{10} H/5 + 3, \\log_{10} H/1.5 +4)$ for pulsed laser @532nm"
   ]
  },
  {
   "cell_type": "code",
   "execution_count": 6,
   "metadata": {},
   "outputs": [
    {
     "name": "stdout",
     "output_type": "stream",
     "text": [
      "The surface of the beam as it comes out from the laser is 7.85E-09 m2.\n",
      "The radiant exposure of the beam as it comes out from the laser is 1.27E+03 Jm-2.\n",
      "According to EN207, we should use LB7 goggles for the beam as it comes out from the laser.\n"
     ]
    }
   ],
   "source": [
    "import numpy as np\n",
    "\n",
    "energy_pulse = 10e-6\n",
    "diameter_0 = 0.1e-3\n",
    "surface_0 = np.pi * (diameter_0/2)**2\n",
    "print(f'The surface of the beam as it comes out from the laser is {surface_0:.2E} m2.')\n",
    "\n",
    "H = energy_pulse / surface_0\n",
    "print(f'The radiant exposure of the beam as it comes out from the laser is {H:.2E} Jm-2.')\n",
    "\n",
    "LBn = int(np.ceil(max(np.log10(H/5) + 3, np.log10(H/1.5) + 4)))\n",
    "print(f'According to EN207, we should use LB{LBn} goggles for the beam as it comes out from the laser.')"
   ]
  },
  {
   "cell_type": "markdown",
   "metadata": {},
   "source": [
    "### MPE IEC 60825\n",
    "\n",
    "Eye safety (Table 5): \n",
    "- Single pulse : MPE = 27 $t^{0.75}$ kJ$m^{-2}$.\n",
    "- Train of pulses 0.25s @20kHz : MPE = 18 $t^{0.75}$ J$m^{-2}$.\n",
    "\n",
    "Skin safety (Table 7):\n",
    "- Single pulse : MPE = 2 x $10^{11}$ W$m^{-2}$.\n",
    "- Train of pulses 0.25s @20kHz : MPE = 1.1 x $10^4$ $t^{0.25}$ J$m^{-2}$."
   ]
  },
  {
   "cell_type": "code",
   "execution_count": 9,
   "metadata": {},
   "outputs": [
    {
     "name": "stdout",
     "output_type": "stream",
     "text": [
      "The MPE for a single pulse for the eye is 4.80E-03 Jm-2.\n",
      "The MPE for a single pulse for the skin is 2.00E+02 Jm-2.\n",
      "The MPE for a pulse train of 0.25s for the eye is 6.36E+00 Jm-2.\n",
      "The MPE for a pulse train of 0.25s for the skin is 7.78E+03 Jm-2.\n"
     ]
    }
   ],
   "source": [
    "pulse_width = 1e-9\n",
    "time_accidental_exposure = 0.25\n",
    "MPE_single_eye = 27e3 * pulse_width**0.75\n",
    "print(f'The MPE for a single pulse for the eye is {MPE_single_eye:.2E} Jm-2.')\n",
    "MPE_single_skin = 2e11 * pulse_width\n",
    "print(f'The MPE for a single pulse for the skin is {MPE_single_skin:.2E} Jm-2.')\n",
    "MPE_train_eye = 18 * time_accidental_exposure**0.75\n",
    "print(f'The MPE for a pulse train of {time_accidental_exposure}s for the eye is {MPE_train_eye:.2E} Jm-2.')\n",
    "MPE_train_skin = 1.1e4 * time_accidental_exposure**0.25\n",
    "print(f'The MPE for a pulse train of {time_accidental_exposure}s for the skin is {MPE_train_skin:.2E} Jm-2.')"
   ]
  },
  {
   "cell_type": "code",
   "execution_count": 13,
   "metadata": {},
   "outputs": [
    {
     "name": "stdout",
     "output_type": "stream",
     "text": [
      "The radiant exposures in Jm-2 for eye and skin are 1.27E+01 and 1.04E+00.\n",
      "The ratio MPE:H is 3.8E-04, so we require an OD = +4.0\n",
      "The radiant exposures for a pulse train in Jm-2 for eye and skin are 6.37E+04 and 5.20E+03.\n",
      "The ratio MPE:H is 1.0E-04, so we require an OD = +5.0\n"
     ]
    }
   ],
   "source": [
    "# Exposure from a single pulse\n",
    "limiting_aperture_eye = 1e-3\n",
    "limiting_aperture_skin = 3.5e-3\n",
    "H_eye = energy_pulse / (np.pi * (limiting_aperture_eye / 2)**2)\n",
    "H_skin = energy_pulse / (np.pi * (limiting_aperture_skin / 2)**2)\n",
    "print(f'The radiant exposures in Jm-2 for eye and skin are {H_eye:.2E} and {H_skin:.2E}.')\n",
    "# Ratio MPE/H\n",
    "ratio_single_eye = MPE_single_eye / H_eye\n",
    "requiredOD_single_eye = np.ceil(-np.log10(ratio_single_eye))\n",
    "print(f'The ratio MPE:H is {ratio_single_eye:.1E}, so we require an OD = +{requiredOD_single_eye}')\n",
    "\n",
    "# Exposure from a pulse train during an accidental exposure\n",
    "reprate = 20e3\n",
    "nPulses = reprate * time_accidental_exposure\n",
    "H_train_eye = H_eye * nPulses\n",
    "H_train_skin = H_skin * nPulses\n",
    "print(f'The radiant exposures for a pulse train in Jm-2 for eye and skin are {H_train_eye:.2E} and {H_train_skin:.2E}.')\n",
    "# Ratio MPE/H\n",
    "ratio_train_eye = MPE_train_eye / H_train_eye\n",
    "requiredOD_train_eye = np.ceil(-np.log10(ratio_train_eye))\n",
    "print(f'The ratio MPE:H is {ratio_train_eye:.1E}, so we require an OD = +{requiredOD_train_eye}')"
   ]
  },
  {
   "cell_type": "code",
   "execution_count": 17,
   "metadata": {},
   "outputs": [
    {
     "name": "stdout",
     "output_type": "stream",
     "text": [
      "The attenuated radiant exposure of a pulse is 8.84E-04 Jm-2\n",
      "The attenuated radiant exposure of an accidental exposure is 4.42E+00 Jm-2\n",
      "The radiant exposures of the collimated beam in Jm-2 for eye and skin is 3.18E-02.\n",
      "The ratio MPE:H is 1.5E-01, so we require an OD = +1.0\n",
      "The radiant exposure of the collimated beam for a pulse train in Jm-2 for eye and skin are 1.59E+02.\n",
      "The ratio MPE:H is 4.0E-02, so we require an OD = +2.0\n"
     ]
    }
   ],
   "source": [
    "# Case of using spherical illumination. The diameter of the beam at 100mm\n",
    "# from the point source is 120 mm.\n",
    "diam_spherical = 120e-3\n",
    "atten_NDF = 0.1\n",
    "atten_pulse_H = energy_pulse / (np.pi * (diam_spherical / 2)**2)\n",
    "print(f'The attenuated radiant exposure of a pulse is {atten_pulse_H:.2E} Jm-2')\n",
    "atten_train_H = atten_pulse_H * nPulses\n",
    "print(f'The attenuated radiant exposure of an accidental exposure is {atten_train_H:.2E} Jm-2')\n",
    "\n",
    "# Case of reflection of collimated beam. The diameter of the sampling beam is 20 mm.\n",
    "diam_coll = 20e-3\n",
    "# Exposure from a single pulse\n",
    "H_coll = energy_pulse / (np.pi * (diam_coll / 2)**2)\n",
    "print(f'The radiant exposures of the collimated beam in Jm-2 for eye and skin is {H_coll:.2E}.')\n",
    "# Ratio MPE/H\n",
    "ratio_single_eye_coll = MPE_single_eye / H_coll\n",
    "requiredOD_single_eye_coll = np.ceil(-np.log10(ratio_single_eye_coll))\n",
    "print(f'The ratio MPE:H is {ratio_single_eye_coll:.1E}, so we require an OD = +{requiredOD_single_eye_coll}')\n",
    "\n",
    "# Exposure from a pulse train during an accidental exposure\n",
    "H_train_coll = H_coll * nPulses\n",
    "print(f'The radiant exposure of the collimated beam for a pulse train in Jm-2 for eye and skin are {H_train_coll:.2E}.')\n",
    "# Ratio MPE/H\n",
    "ratio_train_coll = MPE_train_eye / H_train_coll\n",
    "requiredOD_train_coll = np.ceil(-np.log10(ratio_train_coll))\n",
    "print(f'The ratio MPE:H is {ratio_train_coll:.1E}, so we require an OD = +{requiredOD_train_coll}')"
   ]
  },
  {
   "cell_type": "markdown",
   "metadata": {},
   "source": [
    "# Laser safety box FTS355-Q4 OEM\n",
    "\n",
    "Interlock connector:\n",
    "1. Interlock loop (GND to be ON) 12VDC, <100mA\n",
    "2. Trigger mode IN : falling edge\n",
    "3. Laser On/Off IN : falling edge\n",
    "4. Electrial wavelength switch OUT : level +3,6\n",
    "5. Energy monitor OUT 0-4V\n",
    "6. External trigger IN\n",
    "7. Modulation voltage output monitor OUT\n",
    "8. End of lifetime OUT\n",
    "9. Laser ready OUT\n",
    "10. Trigger mode OUT (low external)\n",
    "11. Laser emission OUT\n",
    "12. NC\n",
    "13. Fatal error\n",
    "14. Internal trigger OUT\n",
    "15. GND\n",
    "\n",
    "Controls:\n",
    "- Button ON/OFF : Onecall SW03312 es Off-(On), tipo timbre, sirve más para triggerear\n",
    "- Key : Onecall SW02266 (1 va con 2(3), 4 va con 5(6))\n",
    "- Trigger button\n",
    "- BNC connector trigger : Onecall 3377943\n",
    "\n",
    "USB cable Rapid 19-8969\n",
    "\n",
    "Leds:\n",
    "- Laser ready GREEN\n",
    "- Laser emission GREEN\n",
    "- Fatal error RED\n",
    "\n",
    "Wide side of connector is starting row. Count from right to left."
   ]
  }
 ],
 "metadata": {
  "kernelspec": {
   "display_name": "Python 3",
   "language": "python",
   "name": "python3"
  },
  "language_info": {
   "codemirror_mode": {
    "name": "ipython",
    "version": 3
   },
   "file_extension": ".py",
   "mimetype": "text/x-python",
   "name": "python",
   "nbconvert_exporter": "python",
   "pygments_lexer": "ipython3",
   "version": "3.7.10"
  }
 },
 "nbformat": 4,
 "nbformat_minor": 4
}
