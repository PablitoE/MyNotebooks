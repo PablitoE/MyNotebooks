{
 "cells": [
  {
   "cell_type": "markdown",
   "id": "enormous-devon",
   "metadata": {},
   "source": [
    "# Running Python in MATLAB\n",
    "\n",
    "## Configure Python version\n",
    "\n",
    "[MATLAB is compatible with these Python versions](https://www.mathworks.com/content/dam/mathworks/mathworks-dot-com/support/sysreq/files/python-compatibility.pdf):\n",
    "\n",
    "| MATLAB |   Python  |\n",
    "|--------|:---------:|\n",
    "| R2022b | 3.9, 3.10 |\n",
    "| R2022a |  3.8, 3.9 |\n",
    "| R2019a |   3.5-7   |\n",
    "\n",
    "[Help pages depending on MATLAB version.](https://uk.mathworks.com/help/doc-archives.html?s_tid=hc_other_releases)\n",
    "\n",
    "### MATLAB 2019a\n",
    "\n",
    "Check with `pyversion` if Python was detected.\n",
    "\n",
    "[version, executable, isloaded] = pyversion\n",
    "\n",
    "The class Propagator in Holosuite sets the Python path so that it can use the modules in directory `PythonCode`."
   ]
  }
 ],
 "metadata": {
  "kernelspec": {
   "display_name": "Python 3",
   "language": "python",
   "name": "python3"
  },
  "language_info": {
   "codemirror_mode": {
    "name": "ipython",
    "version": 3
   },
   "file_extension": ".py",
   "mimetype": "text/x-python",
   "name": "python",
   "nbconvert_exporter": "python",
   "pygments_lexer": "ipython3",
   "version": "3.7.10"
  }
 },
 "nbformat": 4,
 "nbformat_minor": 5
}
